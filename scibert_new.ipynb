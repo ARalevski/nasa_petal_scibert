{
 "cells": [
  {
   "cell_type": "code",
   "execution_count": 1,
   "metadata": {},
   "outputs": [
    {
     "name": "stdout",
     "output_type": "stream",
     "text": [
      "Requirement already satisfied: transformers in c:\\users\\aralevski\\miniconda3\\envs\\minimal_ds\\lib\\site-packages (4.8.2)\n",
      "Requirement already satisfied: filelock in c:\\users\\aralevski\\miniconda3\\envs\\minimal_ds\\lib\\site-packages (from transformers) (3.0.12)\n",
      "Requirement already satisfied: sacremoses in c:\\users\\aralevski\\miniconda3\\envs\\minimal_ds\\lib\\site-packages (from transformers) (0.0.45)\n",
      "Requirement already satisfied: pyyaml in c:\\users\\aralevski\\miniconda3\\envs\\minimal_ds\\lib\\site-packages (from transformers) (5.4.1)\n",
      "Requirement already satisfied: packaging in c:\\users\\aralevski\\miniconda3\\envs\\minimal_ds\\lib\\site-packages (from transformers) (21.0)\n",
      "Requirement already satisfied: huggingface-hub==0.0.12 in c:\\users\\aralevski\\miniconda3\\envs\\minimal_ds\\lib\\site-packages (from transformers) (0.0.12)\n",
      "Requirement already satisfied: regex!=2019.12.17 in c:\\users\\aralevski\\miniconda3\\envs\\minimal_ds\\lib\\site-packages (from transformers) (2021.8.21)\n",
      "Requirement already satisfied: numpy>=1.17 in c:\\users\\aralevski\\miniconda3\\envs\\minimal_ds\\lib\\site-packages (from transformers) (1.21.2)\n",
      "Requirement already satisfied: tokenizers<0.11,>=0.10.1 in c:\\users\\aralevski\\miniconda3\\envs\\minimal_ds\\lib\\site-packages (from transformers) (0.10.3)\n",
      "Requirement already satisfied: requests in c:\\users\\aralevski\\miniconda3\\envs\\minimal_ds\\lib\\site-packages (from transformers) (2.26.0)\n",
      "Requirement already satisfied: tqdm>=4.27 in c:\\users\\aralevski\\miniconda3\\envs\\minimal_ds\\lib\\site-packages (from transformers) (4.62.2)\n",
      "Requirement already satisfied: typing-extensions in c:\\users\\aralevski\\miniconda3\\envs\\minimal_ds\\lib\\site-packages (from huggingface-hub==0.0.12->transformers) (3.10.0.0)\n",
      "Requirement already satisfied: pyparsing>=2.0.2 in c:\\users\\aralevski\\miniconda3\\envs\\minimal_ds\\lib\\site-packages (from packaging->transformers) (2.4.7)\n",
      "Requirement already satisfied: colorama in c:\\users\\aralevski\\miniconda3\\envs\\minimal_ds\\lib\\site-packages (from tqdm>=4.27->transformers) (0.4.4)\n",
      "Requirement already satisfied: charset-normalizer~=2.0.0 in c:\\users\\aralevski\\miniconda3\\envs\\minimal_ds\\lib\\site-packages (from requests->transformers) (2.0.4)\n",
      "Requirement already satisfied: certifi>=2017.4.17 in c:\\users\\aralevski\\miniconda3\\envs\\minimal_ds\\lib\\site-packages (from requests->transformers) (2021.10.8)\n",
      "Requirement already satisfied: idna<4,>=2.5 in c:\\users\\aralevski\\miniconda3\\envs\\minimal_ds\\lib\\site-packages (from requests->transformers) (3.2)\n",
      "Requirement already satisfied: urllib3<1.27,>=1.21.1 in c:\\users\\aralevski\\miniconda3\\envs\\minimal_ds\\lib\\site-packages (from requests->transformers) (1.26.6)\n",
      "Requirement already satisfied: joblib in c:\\users\\aralevski\\miniconda3\\envs\\minimal_ds\\lib\\site-packages (from sacremoses->transformers) (1.0.1)\n",
      "Requirement already satisfied: six in c:\\users\\aralevski\\miniconda3\\envs\\minimal_ds\\lib\\site-packages (from sacremoses->transformers) (1.16.0)\n",
      "Requirement already satisfied: click in c:\\users\\aralevski\\miniconda3\\envs\\minimal_ds\\lib\\site-packages (from sacremoses->transformers) (8.0.3)\n"
     ]
    },
    {
     "name": "stderr",
     "output_type": "stream",
     "text": [
      "[nltk_data] Downloading package punkt to\n",
      "[nltk_data]     C:\\Users\\ARalevski\\AppData\\Roaming\\nltk_data...\n",
      "[nltk_data]   Package punkt is already up-to-date!\n"
     ]
    },
    {
     "data": {
      "text/plain": [
       "True"
      ]
     },
     "execution_count": 1,
     "metadata": {},
     "output_type": "execute_result"
    }
   ],
   "source": [
    "import pandas as pd\n",
    "!pip install transformers\n",
    "import nltk\n",
    "nltk.download(\"punkt\")"
   ]
  },
  {
   "cell_type": "code",
   "execution_count": 2,
   "metadata": {},
   "outputs": [
    {
     "name": "stderr",
     "output_type": "stream",
     "text": [
      "fatal: destination path 'PeTaL-labeller' already exists and is not an empty directory.\n"
     ]
    }
   ],
   "source": [
    "!git clone https://github.com/nasa-petal/PeTaL-labeller.git"
   ]
  },
  {
   "cell_type": "code",
   "execution_count": 3,
   "metadata": {},
   "outputs": [
    {
     "name": "stdout",
     "output_type": "stream",
     "text": [
      "c:\\Users\\ARalevski\\Documents\\nasa_petal_scibert\\PeTaL-labeller\\auto-labeler\\scibert_new_tokens\n"
     ]
    }
   ],
   "source": [
    "%cd PeTaL-labeller/auto-labeler/scibert_new_tokens/"
   ]
  },
  {
   "cell_type": "code",
   "execution_count": 4,
   "metadata": {},
   "outputs": [
    {
     "name": "stdout",
     "output_type": "stream",
     "text": [
      "c:\\Users\\ARalevski\\Documents\\nasa_petal_scibert\\PeTaL-labeller\\auto-labeler\\MATCH\n"
     ]
    }
   ],
   "source": [
    "%cd ../MATCH\n",
    "!python setup.py"
   ]
  },
  {
   "cell_type": "code",
   "execution_count": 5,
   "metadata": {},
   "outputs": [],
   "source": [
    "import json\n",
    "\n",
    "with open('src/MATCH/PeTaL/golden.json') as fin:\n",
    "    golden = json.loads(fin.read())"
   ]
  },
  {
   "cell_type": "code",
   "execution_count": 6,
   "metadata": {},
   "outputs": [],
   "source": [
    "def convert_json_to_csv(js):\n",
    "    title = ' '.join(js['title'])\n",
    "    abstract = ' '.join(js['abstract'])\n",
    "    single_labels = js['isBiomimicry']\n",
    "    return ',\"' + title + '\",\"' + abstract + '\",,,,' + single_labels + \",\""
   ]
  },
  {
   "cell_type": "code",
   "execution_count": 7,
   "metadata": {},
   "outputs": [],
   "source": [
    "with open('../scibert_new_tokens/golden.csv', 'w') as fout:\n",
    "    fout.write(',title,abstract,labels,doi,url,single_labels,labels_string\\n')\n",
    "    for js in golden:\n",
    "        fout.write(convert_json_to_csv(js) + '\\n')"
   ]
  },
  {
   "cell_type": "code",
   "execution_count": 11,
   "metadata": {},
   "outputs": [
    {
     "name": "stdout",
     "output_type": "stream",
     "text": [
      "[WinError 2] The system cannot find the file specified: '../auto-labeler'\n",
      "c:\\Users\\ARalevski\\Documents\\nasa_petal_scibert\\PeTaL-labeller\\auto-labeler\\MATCH\n"
     ]
    }
   ],
   "source": [
    "%cd ../auto-labeler"
   ]
  },
  {
   "cell_type": "code",
   "execution_count": 12,
   "metadata": {},
   "outputs": [
    {
     "name": "stdout",
     "output_type": "stream",
     "text": [
      "C:\\Users\\ARalevski\n"
     ]
    }
   ],
   "source": [
    "%cd"
   ]
  },
  {
   "cell_type": "code",
   "execution_count": 15,
   "metadata": {},
   "outputs": [
    {
     "name": "stdout",
     "output_type": "stream",
     "text": [
      "C:\\Users\\ARalevski\\Documents\n"
     ]
    }
   ],
   "source": [
    "%cd Documents"
   ]
  },
  {
   "cell_type": "code",
   "execution_count": 17,
   "metadata": {},
   "outputs": [
    {
     "name": "stdout",
     "output_type": "stream",
     "text": [
      "C:\\Users\\ARalevski\\Documents\\nasa_petal_scibert\n"
     ]
    }
   ],
   "source": [
    "%cd nasa_petal_scibert/"
   ]
  },
  {
   "cell_type": "code",
   "execution_count": 19,
   "metadata": {},
   "outputs": [
    {
     "name": "stderr",
     "output_type": "stream",
     "text": [
      "Traceback (most recent call last):\n",
      "  File \"C:\\Users\\ARalevski\\Documents\\nasa_petal_scibert\\binary_labeler_scibert.py\", line 20, in <module>\n",
      "    from train import train\n",
      "ImportError: cannot import name 'train' from 'train' (C:\\Users\\ARalevski\\miniconda3\\envs\\minimal_ds\\lib\\site-packages\\train\\__init__.py)\n"
     ]
    }
   ],
   "source": [
    "!python binary_labeler_scibert.py --epochs=10"
   ]
  }
 ],
 "metadata": {
  "interpreter": {
   "hash": "90f5dc604788d6c9614c9b89523cd104745b5385e653b77655fa5e5bc06986c8"
  },
  "kernelspec": {
   "display_name": "Python 3.9.6 64-bit ('minimal_ds': conda)",
   "language": "python",
   "name": "python3"
  },
  "language_info": {
   "codemirror_mode": {
    "name": "ipython",
    "version": 3
   },
   "file_extension": ".py",
   "mimetype": "text/x-python",
   "name": "python",
   "nbconvert_exporter": "python",
   "pygments_lexer": "ipython3",
   "version": "3.9.6"
  },
  "orig_nbformat": 4
 },
 "nbformat": 4,
 "nbformat_minor": 2
}
