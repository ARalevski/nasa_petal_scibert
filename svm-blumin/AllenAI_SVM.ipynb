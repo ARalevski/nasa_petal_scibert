{
  "cells": [
    {
      "cell_type": "code",
      "execution_count": 2,
      "metadata": {
        "colab": {
          "base_uri": "https://localhost:8080/"
        },
        "id": "RiYvoBjiOod1",
        "outputId": "dc921465-7311-4e42-8c0b-139e115f01df"
      },
      "outputs": [
        {
          "name": "stdout",
          "output_type": "stream",
          "text": [
            "Looking in indexes: https://pypi.org/simple, https://us-python.pkg.dev/colab-wheels/public/simple/\n",
            "Collecting jedi\n",
            "  Downloading jedi-0.18.1-py2.py3-none-any.whl (1.6 MB)\n",
            "\u001b[K     |████████████████████████████████| 1.6 MB 7.7 MB/s \n",
            "\u001b[?25hRequirement already satisfied: parso<0.9.0,>=0.8.0 in /usr/local/lib/python3.7/dist-packages (from jedi) (0.8.3)\n",
            "Installing collected packages: jedi\n",
            "Successfully installed jedi-0.18.1\n"
          ]
        }
      ],
      "source": [
        "!pip install jedi"
      ]
    },
    {
      "cell_type": "code",
      "execution_count": 3,
      "metadata": {
        "colab": {
          "base_uri": "https://localhost:8080/"
        },
        "id": "6i7m0wtKOMW_",
        "outputId": "62ebd8fa-9a26-48cb-ded3-aeda25da01fc"
      },
      "outputs": [
        {
          "name": "stdout",
          "output_type": "stream",
          "text": [
            "Looking in indexes: https://pypi.org/simple, https://us-python.pkg.dev/colab-wheels/public/simple/\n",
            "Collecting sklearn-contrib-lightning\n",
            "  Downloading sklearn_contrib_lightning-0.6.2.post0-cp37-cp37m-manylinux2014_x86_64.whl (3.1 MB)\n",
            "\u001b[K     |████████████████████████████████| 3.1 MB 7.6 MB/s \n",
            "\u001b[?25hRequirement already satisfied: numpy in /usr/local/lib/python3.7/dist-packages (from sklearn-contrib-lightning) (1.21.6)\n",
            "Requirement already satisfied: scipy in /usr/local/lib/python3.7/dist-packages (from sklearn-contrib-lightning) (1.7.3)\n",
            "Requirement already satisfied: joblib in /usr/local/lib/python3.7/dist-packages (from sklearn-contrib-lightning) (1.2.0)\n",
            "Requirement already satisfied: scikit-learn in /usr/local/lib/python3.7/dist-packages (from sklearn-contrib-lightning) (1.0.2)\n",
            "Requirement already satisfied: threadpoolctl>=2.0.0 in /usr/local/lib/python3.7/dist-packages (from scikit-learn->sklearn-contrib-lightning) (3.1.0)\n",
            "Installing collected packages: sklearn-contrib-lightning\n",
            "Successfully installed sklearn-contrib-lightning-0.6.2.post0\n"
          ]
        }
      ],
      "source": [
        "!pip install sklearn-contrib-lightning\n",
        "\n"
      ]
    },
    {
      "cell_type": "code",
      "execution_count": 11,
      "metadata": {
        "colab": {
          "base_uri": "https://localhost:8080/"
        },
        "id": "yJ_TxEgzF9Gc",
        "outputId": "41a06545-fd4a-48b1-d9f4-84e70ba0a46c"
      },
      "outputs": [
        {
          "name": "stdout",
          "output_type": "stream",
          "text": [
            "1430\n",
            "8432\n"
          ]
        }
      ],
      "source": [
        "import re\n",
        "import pandas as pd\n",
        "from tempfile import mkdtemp\n",
        "from text_unidecode import unidecode\n",
        "from sklearn.feature_extraction.text import TfidfVectorizer\n",
        "from sklearn.pipeline import Pipeline\n",
        "from sklearn.preprocessing import MaxAbsScaler\n",
        "from lightning.classification import LinearSVC\n",
        "from sklearn.model_selection import GridSearchCV, cross_val_score, StratifiedKFold\n",
        "\n",
        "RANDOM_STATE = 42\n",
        "USE_VENUE = False\n",
        "USE_TOKENS = False  # their tokens are leaking the label\n",
        "ACCEPTABLE_CHARS = re.compile(r\"[^a-zA-Z\\s]+\")\n",
        "\n",
        "\n",
        "def normalize_text(text):\n",
        "    if text is None or len(text) == 0:\n",
        "        return \"\"\n",
        "\n",
        "    norm_text = unidecode(text).lower()\n",
        "    norm_text = ACCEPTABLE_CHARS.sub(\" \", norm_text)\n",
        "    norm_text = re.sub(r\"\\s+\", \" \", norm_text).strip()\n",
        "\n",
        "    return norm_text\n",
        "\n",
        "\n",
        "def concat_text(row, use_venue=USE_VENUE, use_tokens=USE_TOKENS, sep=\"|\", sep_num=5):\n",
        "    if use_tokens:\n",
        "        title = \" \".join(row.title_tokens)\n",
        "        abstract = \" \".join(row.abstract_tokens)\n",
        "    else:\n",
        "        title = row.title\n",
        "        abstract = row.abstract\n",
        "\n",
        "    title = normalize_text(title)\n",
        "    abstract = normalize_text(abstract)\n",
        "\n",
        "    if use_venue:\n",
        "        venue = \" \".join(row.venue)\n",
        "        venue = normalize_text(venue)\n",
        "\n",
        "        return f\"{title} {sep * sep_num} {abstract} {sep * sep_num} {venue}\"\n",
        "    else:\n",
        "        return f\"{title} {sep * sep_num} {abstract}\"\n",
        "\n",
        "\n",
        "# import data\n",
        "# note: we got our own titles and abstracts as there were strange issues with the\n",
        "# original tokenized data that leaked the label\n",
        "\n",
        "df = pd.read_json(\"golden_og.json\").drop(\n",
        "    [\"petalID\", \"level1\", \"level2\", \"level3\", \"url\"], axis=1\n",
        "    # \"author\", \"reference\", \"mag\",\n",
        ")\n",
        "from numpy.random import default_rng\n",
        "\n",
        "# arr_indices_top_drop = default_rng().choice(df.index, size=8800, replace=False)\n",
        "# df = df.drop(index=arr_indices_top_drop)\n",
        "\n",
        "df_y = df.loc[df['isBiomimicry'] == \"Y\"]\n",
        "df_n = df.loc[df['isBiomimicry'] == \"N\"]\n",
        "\n",
        "print(len(df_y))\n",
        "print(len(df_n))\n",
        "\n"
      ]
    },
    {
      "cell_type": "code",
      "execution_count": 12,
      "metadata": {
        "id": "I3-UgJDmY2bG"
      },
      "outputs": [],
      "source": [
        "arr_indices_top_drop = default_rng().choice(df_y.index, size=900, replace=False)\n",
        "df_y = df_y.drop(index=arr_indices_top_drop)\n",
        "\n",
        "arr_indices_top_drop = default_rng().choice(df_n.index, size=7900, replace=False)\n",
        "df_n = df_n.drop(index=arr_indices_top_drop)\n",
        "\n",
        "df = pd.concat([df_y, df_n])"
      ]
    },
    {
      "cell_type": "code",
      "execution_count": null,
      "metadata": {
        "id": "YUPPmOZmSmou"
      },
      "outputs": [],
      "source": [
        "\n",
        "# df2 = pd.read_json(\"data/biomimicry.json\")\n",
        "# df = pd.merge(df, df2, how=\"inner\", on=\"doi\").drop_duplicates([\"doi\", \"title\"])\n",
        "\n",
        "df.loc[:, \"text\"] = df.apply(concat_text, axis=1)\n",
        "df.rename(columns={\"title\": \"title_tokens\", \"abstract\": \"abstract_tokens\"}, inplace=True)\n",
        "\n",
        "df.loc[:, \"y\"] = (df.isBiomimicry == \"Y\").astype(\"int\")\n",
        "\n",
        "# small data, so we need to do nested cross-validation\n",
        "tfidf = TfidfVectorizer(strip_accents=\"ascii\", analyzer=\"char\", ngram_range=(1, 5), max_features=500000)\n",
        "scaler = MaxAbsScaler(copy=False)\n",
        "estimator = Pipeline(\n",
        "    [(\"tfidf\", tfidf), (\"scaler\", scaler), (\"svc\", LinearSVC(loss=\"squared_hinge\", random_state=RANDOM_STATE))],\n",
        "    memory=mkdtemp(),\n",
        ")\n",
        "p_grid = {\"svc__C\": [5e-4, 1e-3, 5e-3, 1e-2, 5e-2, 1e-1, 5e-1, 1e0, 5e0, 1e1, 5e1]}\n",
        "\n",
        "inner_cv = StratifiedKFold(n_splits=4, shuffle=True, random_state=RANDOM_STATE)\n",
        "outer_cv = StratifiedKFold(n_splits=4, shuffle=True, random_state=RANDOM_STATE)\n",
        "\n",
        "# Nested CV with parameter optimization\n",
        "clf = GridSearchCV(estimator=estimator, scoring=\"f1\", param_grid=p_grid, cv=inner_cv, verbose = 2)\n",
        "nested_score = cross_val_score(clf, X=df[\"text\"], y=df[\"y\"], scoring=\"f1\", cv=outer_cv)\n",
        "print(nested_score)"
      ]
    },
    {
      "cell_type": "code",
      "execution_count": null,
      "metadata": {
        "id": "Vm93Le0FOGg1"
      },
      "outputs": [],
      "source": [
        "# result with 500: [0.08695652 0.23076923 0.15384615 0.        ]\n",
        "# result with 1000: [0.35555556 0.23809524 0.04878049 0.15      ]\n",
        "# result with 1000 but better: [0.85920578 0.83397683 0.84046693 0.86486486]"
      ]
    }
  ],
  "metadata": {
    "colab": {
      "provenance": []
    },
    "kernelspec": {
      "display_name": "Python 3.10.4",
      "language": "python",
      "name": "python3"
    },
    "language_info": {
      "name": "python",
      "version": "3.10.4"
    },
    "vscode": {
      "interpreter": {
        "hash": "d23bcd83b013f1cfb6650270c29ef3689f915a6ce3397b0f976202762156df3d"
      }
    }
  },
  "nbformat": 4,
  "nbformat_minor": 0
}
