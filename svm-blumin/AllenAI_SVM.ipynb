{
  "cells": [
    {
      "cell_type": "code",
      "execution_count": null,
      "metadata": {
        "colab": {
          "base_uri": "https://localhost:8080/"
        },
        "id": "RiYvoBjiOod1",
        "outputId": "8d07ff9a-d1ec-4c98-da01-676575b83b8c"
      },
      "outputs": [],
      "source": [
        "!pip install jedi"
      ]
    },
    {
      "cell_type": "code",
      "execution_count": null,
      "metadata": {
        "colab": {
          "base_uri": "https://localhost:8080/"
        },
        "id": "6i7m0wtKOMW_",
        "outputId": "e8ded409-315f-4bf5-8109-0997d6fc14fe"
      },
      "outputs": [],
      "source": [
        "!pip install sklearn-contrib-lightning\n",
        "\n"
      ]
    },
    {
      "cell_type": "code",
      "execution_count": null,
      "metadata": {
        "colab": {
          "base_uri": "https://localhost:8080/"
        },
        "id": "yJ_TxEgzF9Gc",
        "outputId": "5ed22899-17fb-425f-d351-e4e17c1def20"
      },
      "outputs": [],
      "source": [
        "import re\n",
        "import pandas as pd\n",
        "from tempfile import mkdtemp\n",
        "from text_unidecode import unidecode\n",
        "from sklearn.feature_extraction.text import TfidfVectorizer\n",
        "from sklearn.pipeline import Pipeline\n",
        "from sklearn.preprocessing import MaxAbsScaler\n",
        "from lightning.classification import LinearSVC\n",
        "from sklearn.model_selection import GridSearchCV, cross_val_score, StratifiedKFold\n",
        "\n",
        "RANDOM_STATE = 42\n",
        "USE_VENUE = False\n",
        "USE_TOKENS = False  # their tokens are leaking the label\n",
        "ACCEPTABLE_CHARS = re.compile(r\"[^a-zA-Z\\s]+\")\n",
        "\n",
        "\n",
        "def normalize_text(text):\n",
        "    if text is None or len(text) == 0:\n",
        "        return \"\"\n",
        "\n",
        "    norm_text = unidecode(text).lower()\n",
        "    norm_text = ACCEPTABLE_CHARS.sub(\" \", norm_text)\n",
        "    norm_text = re.sub(r\"\\s+\", \" \", norm_text).strip()\n",
        "\n",
        "    return norm_text\n",
        "\n",
        "\n",
        "def concat_text(row, use_venue=USE_VENUE, use_tokens=USE_TOKENS, sep=\"|\", sep_num=5):\n",
        "    if use_tokens:\n",
        "        title = \" \".join(row.title_tokens)\n",
        "        abstract = \" \".join(row.abstract_tokens)\n",
        "    else:\n",
        "        title = row.title\n",
        "        abstract = row.abstract\n",
        "\n",
        "    title = normalize_text(title)\n",
        "    abstract = normalize_text(abstract)\n",
        "\n",
        "    if use_venue:\n",
        "        venue = \" \".join(row.venue)\n",
        "        venue = normalize_text(venue)\n",
        "\n",
        "        return f\"{title} {sep * sep_num} {abstract} {sep * sep_num} {venue}\"\n",
        "    else:\n",
        "        return f\"{title} {sep * sep_num} {abstract}\"\n",
        "\n",
        "\n",
        "# import data\n",
        "# note: we got our own titles and abstracts as there were strange issues with the\n",
        "# original tokenized data that leaked the label\n",
        "\n",
        "df = pd.read_json(\"golden_og.json\").drop(\n",
        "    [\"petalID\", \"level1\", \"level2\", \"level3\", \"url\"], axis=1\n",
        "    # \"author\", \"reference\", \"mag\",\n",
        ")\n",
        "from numpy.random import default_rng\n",
        "\n",
        "arr_indices_top_drop = default_rng().choice(df.index, size=9300, replace=False)\n",
        "df = df.drop(index=arr_indices_top_drop)\n",
        "\n",
        "# df2 = pd.read_json(\"data/biomimicry.json\")\n",
        "# df = pd.merge(df, df2, how=\"inner\", on=\"doi\").drop_duplicates([\"doi\", \"title\"])\n",
        "\n",
        "df.loc[:, \"text\"] = df.apply(concat_text, axis=1)\n",
        "df.rename(columns={\"title\": \"title_tokens\", \"abstract\": \"abstract_tokens\"}, inplace=True)\n",
        "\n",
        "df.loc[:, \"y\"] = (df.isBiomimicry == \"Y\").astype(\"int\")\n",
        "\n",
        "# small data, so we need to do nested cross-validation\n",
        "tfidf = TfidfVectorizer(strip_accents=\"ascii\", analyzer=\"char\", ngram_range=(1, 5), max_features=500000)\n",
        "scaler = MaxAbsScaler(copy=False)\n",
        "estimator = Pipeline(\n",
        "    [(\"tfidf\", tfidf), (\"scaler\", scaler), (\"svc\", LinearSVC(loss=\"squared_hinge\", random_state=RANDOM_STATE))],\n",
        "    memory=mkdtemp(),\n",
        ")\n",
        "p_grid = {\"svc__C\": [5e-4, 1e-3, 5e-3, 1e-2, 5e-2, 1e-1, 5e-1, 1e0, 5e0, 1e1, 5e1]}\n",
        "\n",
        "inner_cv = StratifiedKFold(n_splits=4, shuffle=True, random_state=RANDOM_STATE)\n",
        "outer_cv = StratifiedKFold(n_splits=4, shuffle=True, random_state=RANDOM_STATE)\n",
        "\n",
        "# Nested CV with parameter optimization\n",
        "clf = GridSearchCV(estimator=estimator, scoring=\"f1\", param_grid=p_grid, cv=inner_cv, verbose = 1)\n",
        "nested_score = cross_val_score(clf, X=df[\"text\"], y=df[\"y\"], scoring=\"f1\", cv=outer_cv)\n",
        "print(nested_score)"
      ]
    },
    {
      "cell_type": "code",
      "execution_count": null,
      "metadata": {
        "id": "Vm93Le0FOGg1"
      },
      "outputs": [],
      "source": [
        "# result: [0.08695652 0.23076923 0.15384615 0.        ]"
      ]
    }
  ],
  "metadata": {
    "colab": {
      "provenance": []
    },
    "kernelspec": {
      "display_name": "Python 3.10.4",
      "language": "python",
      "name": "python3"
    },
    "language_info": {
      "name": "python",
      "version": "3.10.4"
    },
    "vscode": {
      "interpreter": {
        "hash": "d23bcd83b013f1cfb6650270c29ef3689f915a6ce3397b0f976202762156df3d"
      }
    }
  },
  "nbformat": 4,
  "nbformat_minor": 0
}
